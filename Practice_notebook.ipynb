{
  "nbformat": 4,
  "nbformat_minor": 5,
  "metadata": {
    "kernelspec": {
      "display_name": "Python 3",
      "language": "python",
      "name": "python3"
    },
    "language_info": {
      "codemirror_mode": {
        "name": "ipython",
        "version": 3
      },
      "file_extension": ".py",
      "mimetype": "text/x-python",
      "name": "python",
      "nbconvert_exporter": "python",
      "pygments_lexer": "ipython3",
      "version": "3.8.8"
    },
    "colab": {
      "name": "Practice notebook.ipynb",
      "provenance": [],
      "include_colab_link": true
    }
  },
  "cells": [
    {
      "cell_type": "markdown",
      "metadata": {
        "id": "view-in-github",
        "colab_type": "text"
      },
      "source": [
        "<a href=\"https://colab.research.google.com/github/UserSaiVarma/Computer_Vision/blob/main/Practice_notebook.ipynb\" target=\"_parent\"><img src=\"https://colab.research.google.com/assets/colab-badge.svg\" alt=\"Open In Colab\"/></a>"
      ]
    },
    {
      "cell_type": "code",
      "metadata": {
        "id": "1502e861"
      },
      "source": [
        "import cv2\n",
        "import numpy as np\n",
        "from pdf2image import convert_from_path\n",
        "import sys\n",
        "import os\n",
        "import pytesseract\n",
        "from PIL import Image\n",
        "import pandas as pd\n",
        "import warnings\n",
        "warnings.filterwarnings(\"ignore\")"
      ],
      "id": "1502e861",
      "execution_count": null,
      "outputs": []
    },
    {
      "cell_type": "code",
      "metadata": {
        "id": "7b95092a"
      },
      "source": [
        "# to load any image as an array\n",
        "img1 = cv2.imread(\"train/1.png\")\n",
        "img2 = cv2.imread(\"train/2.png\")"
      ],
      "id": "7b95092a",
      "execution_count": null,
      "outputs": []
    },
    {
      "cell_type": "code",
      "metadata": {
        "id": "4be62ee9"
      },
      "source": [
        "#if you want to display the image\n",
        "cv2.imshow(\"img\",img1)\n",
        "cv2.waitKey()"
      ],
      "id": "4be62ee9",
      "execution_count": null,
      "outputs": []
    },
    {
      "cell_type": "code",
      "metadata": {
        "id": "1b934fa8",
        "outputId": "d597d11a-9abe-4f82-b3c0-043a58b708c8"
      },
      "source": [
        "print(img1.shape)"
      ],
      "id": "1b934fa8",
      "execution_count": null,
      "outputs": [
        {
          "name": "stdout",
          "output_type": "stream",
          "text": [
            "(32, 32, 3)\n"
          ]
        }
      ]
    },
    {
      "cell_type": "code",
      "metadata": {
        "id": "9cf5c147",
        "outputId": "eb470beb-af6b-4c34-8bae-58c038b5c069"
      },
      "source": [
        "#you can perform general mathematical operations using cv2\n",
        "diff = cv2.subtract(img1,img2)\n",
        "cv2.startWindowThread()\n",
        "cv2.imshow(\"diff\",diff)\n",
        "cv2.waitKey()"
      ],
      "id": "9cf5c147",
      "execution_count": null,
      "outputs": [
        {
          "data": {
            "text/plain": [
              "-1"
            ]
          },
          "execution_count": 5,
          "metadata": {},
          "output_type": "execute_result"
        }
      ]
    },
    {
      "cell_type": "code",
      "metadata": {
        "id": "7672bcb5"
      },
      "source": [
        "filename = \"text_img.jpg\""
      ],
      "id": "7672bcb5",
      "execution_count": null,
      "outputs": []
    },
    {
      "cell_type": "code",
      "metadata": {
        "id": "9a7cbc16"
      },
      "source": [
        "img_path = Image.open(filename)\n",
        "Image.open(filename)"
      ],
      "id": "9a7cbc16",
      "execution_count": null,
      "outputs": []
    },
    {
      "cell_type": "code",
      "metadata": {
        "id": "cc4f6e1c"
      },
      "source": [
        "pytesseract.pytesseract.tesseract_cmd = r\"C:\\Program Files\\Tesseract-OCR\\tesseract.exe\"  # your path may be different"
      ],
      "id": "cc4f6e1c",
      "execution_count": null,
      "outputs": []
    },
    {
      "cell_type": "code",
      "metadata": {
        "id": "69221211",
        "outputId": "92b3c8cb-05ea-4f96-8929-cf8036d036d1"
      },
      "source": [
        "text = str(pytesseract.image_to_string(img_path))\n",
        "print(text)"
      ],
      "id": "69221211",
      "execution_count": null,
      "outputs": [
        {
          "name": "stdout",
          "output_type": "stream",
          "text": [
            "POWER SUPPLY\n",
            "\n",
            "THE CALCULATOR IS POWERED BY\n",
            "SOLAR CELL AND A BATTERY FOR\n",
            "BACKUP. THE DISPLAY WILL DIM WHEN\n",
            "THE BATTERY NEEDS TO BE REPLACED.\n",
            "THE \"+\" SIGN OF EACH BATTERY MUST\n",
            "SHOW UPWARD WHEN INSERTED.\n",
            "\f",
            "\n"
          ]
        }
      ]
    }
  ]
}