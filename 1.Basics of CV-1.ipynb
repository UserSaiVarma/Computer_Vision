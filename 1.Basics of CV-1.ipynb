{
 "cells": [
  {
   "cell_type": "markdown",
   "id": "375f20aa",
   "metadata": {},
   "source": [
    "This notebook contains some of the basic functions used in OpenCV"
   ]
  },
  {
   "cell_type": "markdown",
   "id": "79c6fe8a",
   "metadata": {},
   "source": [
    "download image from here:<br>\n",
    "https://www.google.com/search?q=car+image+download&tbm=isch&ved=2ahUKEwif4fC65Mn0AhU3s0sFHcksAPIQ2-cCegQIABAA&oq=car+image+down&gs_lcp=CgNpbWcQARgAMgUIABCABDIFCAAQgAQyBggAEAUQHjIICAAQBRAKEB4yBggAEAUQHjIGCAAQBRAeMggIABAFEAoQHjIGCAAQBRAeMgYIABAFEB4yBggAEAUQHjoHCCMQ7wMQJzoGCAAQCBAeUPwgWPs0YOxRaABwAHgBgAHpBIgBmROSAQkwLjkuMi41LTGYAQCgAQGqAQtnd3Mtd2l6LWltZ8ABAQ&sclient=img&ei=ki6rYZ_QA7fmrtoPydmAkA8&bih=770&biw=1536&client=firefox-b-d#imgrc=gcf_HixuJCR3kM"
   ]
  },
  {
   "cell_type": "code",
   "execution_count": 1,
   "id": "c12e41e2",
   "metadata": {},
   "outputs": [],
   "source": [
    "import cv2 as cv #Importing OpenCV\n",
    "import numpy as np #importing numpy\n",
    "#if you are running this notebook in colab: from colab.patches import cv_imshow as cv.imshow"
   ]
  },
  {
   "cell_type": "markdown",
   "id": "0670e36e",
   "metadata": {},
   "source": [
    "Documentation for reading and writing any image<br>\n",
    "https://docs.opencv.org/3.4/d4/da8/group__imgcodecs.html"
   ]
  },
  {
   "cell_type": "markdown",
   "id": "8b6058b0",
   "metadata": {},
   "source": [
    "<font size=3>Read, Show and Save "
   ]
  },
  {
   "cell_type": "code",
   "execution_count": 2,
   "id": "894369bd",
   "metadata": {},
   "outputs": [],
   "source": [
    "def read_image(image_path):\n",
    "    \"This function returns the image in the specified path\"\n",
    "    image = cv.imread(image_path) #here image will be in BGR format\n",
    "    #for GrayScale image cv.mread(image_path, 0)\n",
    "    return image"
   ]
  },
  {
   "cell_type": "code",
   "execution_count": 3,
   "id": "ff860898",
   "metadata": {},
   "outputs": [],
   "source": [
    "def display_image(display_name, image):\n",
    "    \"This function prints/displays the image\"\n",
    "    cv.imshow(display_name, image)\n",
    "    cv.waitKey(0)"
   ]
  },
  {
   "cell_type": "code",
   "execution_count": 4,
   "id": "08270356",
   "metadata": {},
   "outputs": [],
   "source": [
    "def save_image(name, image):\n",
    "    \"To save any image into the folder\"\n",
    "    cv.imwrite(name, image)\n",
    "    print(\"The image is saved as\",name)"
   ]
  },
  {
   "cell_type": "code",
   "execution_count": 5,
   "id": "21138260",
   "metadata": {},
   "outputs": [
    {
     "name": "stdout",
     "output_type": "stream",
     "text": [
      "The image is saved as images/saved_car.jpg\n"
     ]
    }
   ],
   "source": [
    "img = read_image(\"images/car.jpg\")\n",
    "display_image(\"Car Image\", img)\n",
    "save_image(\"images/saved_car.jpg\", img)"
   ]
  },
  {
   "cell_type": "markdown",
   "id": "d05384c2",
   "metadata": {},
   "source": [
    "<font size=3>Resize"
   ]
  },
  {
   "cell_type": "markdown",
   "id": "4d68db43",
   "metadata": {},
   "source": [
    "Documentation for resizing and transformations<br>\n",
    "https://docs.opencv.org/4.x/da/d6e/tutorial_py_geometric_transformations.html"
   ]
  },
  {
   "cell_type": "code",
   "execution_count": 6,
   "id": "03d7693d",
   "metadata": {},
   "outputs": [],
   "source": [
    "def resize_image(image, dimensions, method_number):\n",
    "    \"This function returns the resized image based on specified dimesions\"\n",
    "    methods = [cv.INTER_AREA, cv.INTER_LINEAR, cv.INTER_NEAREST, cv.INTER_CUBIC, cv.INTER_LANCZOS4]\n",
    "    resize_method = methods[method_number]\n",
    "    resize_image = cv.resize(image, dimensions, interpolation=resize_method)\n",
    "    return resize_image"
   ]
  },
  {
   "cell_type": "code",
   "execution_count": 7,
   "id": "abb956b1",
   "metadata": {},
   "outputs": [
    {
     "data": {
      "text/plain": [
       "(900, 1600, 3)"
      ]
     },
     "execution_count": 7,
     "metadata": {},
     "output_type": "execute_result"
    }
   ],
   "source": [
    "img.shape"
   ]
  },
  {
   "cell_type": "code",
   "execution_count": 8,
   "id": "f857c63f",
   "metadata": {},
   "outputs": [
    {
     "name": "stdout",
     "output_type": "stream",
     "text": [
      "(600, 600, 3)\n",
      "The image is saved as images/resized_car.jpg\n"
     ]
    }
   ],
   "source": [
    "resized_image = resize_image(img, dimensions=(600,600), method_number=2)\n",
    "print(resized_image.shape)\n",
    "display_image(\"image resized\",resized_image)\n",
    "save_image(\"images/resized_car.jpg\", resized_image)"
   ]
  },
  {
   "cell_type": "markdown",
   "id": "113e776a",
   "metadata": {},
   "source": [
    "<font size=3>Crop Image"
   ]
  },
  {
   "cell_type": "markdown",
   "id": "0f346e75",
   "metadata": {},
   "source": [
    "documentation for clip function:<br>\n",
    "https://numpy.org/doc/stable/reference/generated/numpy.clip.html"
   ]
  },
  {
   "cell_type": "code",
   "execution_count": 9,
   "id": "f56b2786",
   "metadata": {},
   "outputs": [],
   "source": [
    "def crop_image(image, dimensions):\n",
    "    \"Returns the cropped image\"\n",
    "    img_dim = image.shape\n",
    "    height_dim, width_dim = dimensions #height start and end, width start and end\n",
    "    np.clip(height_dim, 0, img_dim[0])\n",
    "    np.clip(width_dim, 0, img_dim[1])\n",
    "    cropped_img = image[height_dim[0]:height_dim[1],width_dim[0]:width_dim[1]]\n",
    "    return cropped_img"
   ]
  },
  {
   "cell_type": "code",
   "execution_count": 10,
   "id": "5cf34c33",
   "metadata": {},
   "outputs": [
    {
     "name": "stdout",
     "output_type": "stream",
     "text": [
      "(400, 400, 3)\n"
     ]
    }
   ],
   "source": [
    "crop_img = crop_image(img, dimensions=([250, 650], [500, 900]))\n",
    "print(crop_img.shape)\n",
    "display_image(\"cropped image\", crop_img)"
   ]
  },
  {
   "cell_type": "markdown",
   "id": "0469b35f",
   "metadata": {},
   "source": [
    "<font size=3>Translation of Image"
   ]
  },
  {
   "cell_type": "markdown",
   "id": "67e13e5b",
   "metadata": {},
   "source": [
    "documetaion for warpaffine<br>\n",
    "https://docs.opencv.org/4.x/da/d54/group__imgproc__transform.html#ga0203d9ee5fcd28d40dbc4a1ea4451983"
   ]
  },
  {
   "cell_type": "code",
   "execution_count": 11,
   "id": "1385495f",
   "metadata": {},
   "outputs": [],
   "source": [
    "def image_translation(image, dimesions):\n",
    "    \"Returns the translateed image\"\n",
    "    height, width = image.shape[:2]\n",
    "    trans_height = dimesions[0]\n",
    "    trans_width = dimesions[1]\n",
    "    #shape of translation matrix is 2X3\n",
    "    translation_matrix = np.float32([[1,0, trans_height],\n",
    "                                     [0,1,trans_width]])\n",
    "    trans_img = cv.warpAffine(src=image, M=translation_matrix, dsize=(height, width))\n",
    "    return trans_img"
   ]
  },
  {
   "cell_type": "code",
   "execution_count": 12,
   "id": "44bf8638",
   "metadata": {},
   "outputs": [
    {
     "name": "stdout",
     "output_type": "stream",
     "text": [
      "(600, 600, 3)\n"
     ]
    }
   ],
   "source": [
    "trans_img = image_translation(resized_image, dimesions=(100, 100))\n",
    "print(trans_img.shape)\n",
    "display_image(\"translated image\", trans_img)"
   ]
  },
  {
   "cell_type": "markdown",
   "id": "0cfb918c",
   "metadata": {},
   "source": [
    "<font size=3>Rotation of image"
   ]
  },
  {
   "cell_type": "code",
   "execution_count": 13,
   "id": "744d56f1",
   "metadata": {},
   "outputs": [],
   "source": [
    "def image_rotation(image, angle, scale=1):\n",
    "    \"\"\"Dimensions are (0,0) means no translation\n",
    "       Scale=1 means no rescalling the image\n",
    "       Returns the rotated image\"\"\"\n",
    "    # dividing height and width by 2 to get the center of the image\n",
    "    height, width = image.shape[:2]\n",
    "    center = (width/2, height/2)\n",
    "\n",
    "    # using cv2.getRotationMatrix2D() to get the rotation matrix\n",
    "    rotate_matrix = cv.getRotationMatrix2D(center=center, angle=angle, scale=scale)\n",
    "\n",
    "    # rotate the image using cv2.warpAffine\n",
    "    rotated_image = cv.warpAffine(src=image, M=rotate_matrix, dsize=(width, height))\n",
    "    return rotated_image"
   ]
  },
  {
   "cell_type": "code",
   "execution_count": 14,
   "id": "b87812f2",
   "metadata": {},
   "outputs": [],
   "source": [
    "img_rot = image_rotation(resized_image, angle=30)\n",
    "display_image(\"Rotated image\", img_rot)"
   ]
  },
  {
   "cell_type": "markdown",
   "id": "a9d7de71",
   "metadata": {},
   "source": [
    "<font size=3>Both Rotation and Translation"
   ]
  },
  {
   "cell_type": "code",
   "execution_count": 15,
   "id": "dedf5a5d",
   "metadata": {},
   "outputs": [],
   "source": [
    "def image_transformation(image, dimensions, angle, scale=1, first='translation'):\n",
    "    \"\"\" dimensions is for translation\n",
    "        angle is for rotation\n",
    "        first tells which operation to perform first\n",
    "        performs both translation and rotation\"\"\"\n",
    "    if first=='translation':\n",
    "        img = image_translation(image, dimensions)\n",
    "        img = image_rotation(img, angle=angle, scale=scale)\n",
    "        return img\n",
    "    else:\n",
    "        img = image_rotation(image, angle=angle, scale=scale)\n",
    "        img = image_translation(img, dimensions)\n",
    "        return img"
   ]
  },
  {
   "cell_type": "code",
   "execution_count": 16,
   "id": "51447e73",
   "metadata": {},
   "outputs": [
    {
     "name": "stdout",
     "output_type": "stream",
     "text": [
      "The image is saved as images/transformed_car.jpg\n"
     ]
    }
   ],
   "source": [
    "final_img = image_transformation(image=resized_image, dimensions=(50,50), angle=30)\n",
    "display_image(\"Transformed Image\", final_img)\n",
    "save_image(\"images/transformed_car.jpg\", final_img)"
   ]
  }
 ],
 "metadata": {
  "kernelspec": {
   "display_name": "Python 3",
   "language": "python",
   "name": "python3"
  },
  "language_info": {
   "codemirror_mode": {
    "name": "ipython",
    "version": 3
   },
   "file_extension": ".py",
   "mimetype": "text/x-python",
   "name": "python",
   "nbconvert_exporter": "python",
   "pygments_lexer": "ipython3",
   "version": "3.8.8"
  }
 },
 "nbformat": 4,
 "nbformat_minor": 5
}
